{
 "cells": [
  {
   "cell_type": "markdown",
   "metadata": {},
   "source": [
    "# Part 1"
   ]
  },
  {
   "cell_type": "code",
   "execution_count": 1,
   "metadata": {},
   "outputs": [],
   "source": [
    "import numpy as num\n",
    "import pandas as pd\n",
    "import math\n",
    "import pprint\n",
    "from numpy.linalg import inv"
   ]
  },
  {
   "cell_type": "code",
   "execution_count": 2,
   "metadata": {},
   "outputs": [],
   "source": [
    "def normalize(data,list_attribute):\n",
    "#     for attr in list_attribute:\n",
    "#         print attr\n",
    "#         attr_std=data[attr].std()\n",
    "#         attr_mean=data[attr].mean()\n",
    "#         li=[]\n",
    "#         for index, row in data.iterrows():\n",
    "#             attr_value=float((row[attr]-attr_mean))/attr_std\n",
    "#             li.append(attr_value)\n",
    "#         data.drop(columns=attr)\n",
    "#         data[attr]=li\n",
    "    norm = (data - data.mean())/data.std()\n",
    "    norm['Chance of Admit '] = data['Chance of Admit ']\n",
    "    return norm"
   ]
  },
  {
   "cell_type": "code",
   "execution_count": 3,
   "metadata": {},
   "outputs": [
    {
     "name": "stdout",
     "output_type": "stream",
     "text": [
      "Index([u'GRE Score', u'TOEFL Score', u'University Rating', u'SOP', u'LOR ',\n",
      "       u'CGPA', u'Research'],\n",
      "      dtype='object')\n"
     ]
    }
   ],
   "source": [
    "data= pd.read_csv('AdmissionDataset/data.csv')\n",
    "data=data.drop(columns='Serial No.')\n",
    "list_attribute= data.columns[:-1]\n",
    "print list_attribute\n",
    "data=normalize(data,list_attribute)\n",
    "li=[1]*len(data.index)\n",
    "data.insert(0, \"Extra\", li) \n",
    "train_data=data.sample(frac=0.8)\n",
    "validation_data=data.drop(train_data.index)\n"
   ]
  },
  {
   "cell_type": "code",
   "execution_count": 4,
   "metadata": {},
   "outputs": [],
   "source": [
    "def get_sigmoid(t):\n",
    "    return 1/(1+num.exp(-t))"
   ]
  },
  {
   "cell_type": "code",
   "execution_count": 5,
   "metadata": {},
   "outputs": [],
   "source": [
    "def gradiant_method_mean_sq_error(X,Y,beta,g_rate,m):\n",
    "    t=num.dot(X,beta)\n",
    "    t=get_sigmoid(t)\n",
    "    a=(g_rate/m)*(num.dot(num.subtract(t,Y),X))\n",
    "    beta=num.subtract(beta,a)\n",
    "    return beta"
   ]
  },
  {
   "cell_type": "code",
   "execution_count": 6,
   "metadata": {},
   "outputs": [],
   "source": [
    "def calc_predication(beta,test_data):\n",
    "#     print test_data.iloc[:,:-1].values.shape\n",
    "#     print beta.shape\n",
    "    predication=num.dot(test_data.iloc[:,:-1].values,beta)\n",
    "    predication=get_sigmoid(predication)\n",
    "    for i in range(len(predication)):\n",
    "        if predication[i] <0.5:\n",
    "            predication[i]=0\n",
    "        else: \n",
    "            predication[i]=1\n",
    "    return predication"
   ]
  },
  {
   "cell_type": "code",
   "execution_count": 7,
   "metadata": {},
   "outputs": [],
   "source": [
    "def calc_accuracy(actual,predication):\n",
    "    for i in range(len(actual)):\n",
    "        if actual[i] <0.5:\n",
    "            actual[i]=0\n",
    "        else: \n",
    "            actual[i]=1\n",
    "#     print actual\n",
    "    correct=0.0\n",
    "    for i in range(len(actual)):\n",
    "        if actual[i]==predication[i]:\n",
    "            correct=correct+1\n",
    "#     print len(actual),len(predication)\n",
    "    return correct/len(actual)"
   ]
  },
  {
   "cell_type": "code",
   "execution_count": 8,
   "metadata": {},
   "outputs": [
    {
     "data": {
      "text/plain": [
       "0.9444444444444444"
      ]
     },
     "execution_count": 8,
     "metadata": {},
     "output_type": "execute_result"
    }
   ],
   "source": [
    "beta=[0]*8\n",
    "X=train_data.iloc[:,:-1].values\n",
    "Y=train_data['Chance of Admit '].tolist()\n",
    "m=len(train_data.index)\n",
    "for i in range(500):\n",
    "    beta=gradiant_method_mean_sq_error(X,Y,beta,0.025,m)\n",
    "predication=calc_predication(beta,validation_data)\n",
    "# print predication\n",
    "calc_accuracy(validation_data['Chance of Admit '].tolist(),predication)"
   ]
  },
  {
   "cell_type": "code",
   "execution_count": null,
   "metadata": {},
   "outputs": [],
   "source": []
  },
  {
   "cell_type": "code",
   "execution_count": null,
   "metadata": {},
   "outputs": [],
   "source": []
  }
 ],
 "metadata": {
  "kernelspec": {
   "display_name": "Python 2",
   "language": "python",
   "name": "python2"
  },
  "language_info": {
   "codemirror_mode": {
    "name": "ipython",
    "version": 2
   },
   "file_extension": ".py",
   "mimetype": "text/x-python",
   "name": "python",
   "nbconvert_exporter": "python",
   "pygments_lexer": "ipython2",
   "version": "2.7.15rc1"
  }
 },
 "nbformat": 4,
 "nbformat_minor": 2
}

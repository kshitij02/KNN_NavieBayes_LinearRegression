{
 "cells": [
  {
   "cell_type": "code",
   "execution_count": 10,
   "metadata": {},
   "outputs": [],
   "source": [
    "import numpy as num\n",
    "import pandas as pd\n",
    "import math\n",
    "from pprint import pprint\n",
    "import sys"
   ]
  },
  {
   "cell_type": "code",
   "execution_count": 11,
   "metadata": {},
   "outputs": [],
   "source": [
    "data =pd.read_csv('LoanDataset/data.csv',header=None)\n",
    "list_columns=[\"Age\",\"Experience\",\"Annual Income\" ,\"ZIPCode\",\"Family size\",\"Avgerage spending per month\" \n",
    ",\"Education Level\",\"Mortgage Value of house\", \"Output\",\"securities account\",\"certificate of deposit (CD)\",\n",
    "\"internet banking\",\"credit card issued\"]\n",
    "data=data[1:]\n",
    "data.columns=[\"ID\"]+list_columns\n",
    "data=data.drop(columns=\"ID\")\n",
    "train_data=data.sample(frac=0.8,random_state=200)\n",
    "validation_data=data.drop(train_data.index)\n",
    "# list_columns.remove('ZIPCode')\n",
    "# validation_data =pd.read_csv(sys.args[1],header=None)\n",
    "# validation_data=validation_data[1:]\n",
    "# validation_data.columns=[\"ID\"]+list_columns\n",
    "# validation_data=validation_data.drop(columns=\"ID\")\n",
    "\n",
    "categorial_data=list_columns[6:7]+list_columns[9:]\n",
    "# print categorial_data\n",
    "list_columns.remove('ZIPCode')\n",
    "numerical_data=list(filter(lambda i:i not in categorial_data and i!= 'Output',list_columns))\n",
    "# print numerical_data\n",
    "# print list_columns"
   ]
  },
  {
   "cell_type": "code",
   "execution_count": 12,
   "metadata": {},
   "outputs": [],
   "source": [
    "numerical_data_std={}\n",
    "numerical_data_mean={}\n",
    "temp_0=train_data[train_data['Output']==0]\n",
    "temp_1=train_data[train_data['Output']==1]\n",
    "for i in numerical_data:\n",
    "#     temp_0=train_data[output==1]a\n",
    "    numerical_data_mean[i]={}\n",
    "    numerical_data_std[i]={}\n",
    "    numerical_data_mean[i][0]=temp_0[i].mean()\n",
    "    numerical_data_std[i][0]=temp_0[i].std()\n",
    "    numerical_data_mean[i][1]=temp_1[i].mean()\n",
    "    numerical_data_std[i][1]=temp_1[i].std()\n",
    "    \n",
    "# pprint (numerical_data_mean)\n",
    "# pprint (numerical_data_std)"
   ]
  },
  {
   "cell_type": "code",
   "execution_count": 13,
   "metadata": {},
   "outputs": [],
   "source": [
    "categorial_data_probability={}\n",
    "temp_0=train_data[train_data['Output']==0]\n",
    "temp_1=train_data[train_data['Output']==1]\n",
    "for i in categorial_data:\n",
    "#     temp_0=train_data[output==1]a\n",
    "    categorial_data_probability[i]={}\n",
    "    len_data_0=float(len(temp_0))\n",
    "    len_data_1=float(len(temp_1))\n",
    "#     print len_data_0,len_data_1\n",
    "    for j in train_data[i].unique():\n",
    "        categorial_data_probability[i][j]={}\n",
    "        categorial_data_probability[i][j][0]=len(temp_0[temp_0[i]==j])/len_data_0\n",
    "        categorial_data_probability[i][j][1]=len(temp_1[temp_1[i]==j])/len_data_1\n",
    "# pprint (categorial_data_probability)\n",
    "        \n",
    "probability_zero=len(temp_0)/float(len(train_data))\n",
    "probability_one=len(temp_1)/float(len(train_data))\n",
    "# print probability_one\n",
    "# print probability_zero"
   ]
  },
  {
   "cell_type": "code",
   "execution_count": 14,
   "metadata": {},
   "outputs": [],
   "source": [
    "# probability_one,probability_zero=1.0,1.0\n",
    "# def calculation_output_data():\n",
    "#     temp_0=train_data[train_data['Output']==0]\n",
    "#     temp_1=train_data[train_data['Output']==1]\n",
    "#     probability_zero=len(temp_0)/float(len(train_data))\n",
    "#     probability_one=len(temp_1)/float(len(train_data))\n",
    "# calculation_output_data()"
   ]
  },
  {
   "cell_type": "code",
   "execution_count": 15,
   "metadata": {},
   "outputs": [],
   "source": [
    "import math\n",
    "def normpdf(x, mean, sd):\n",
    "    var = float(sd)**2\n",
    "    denom = (2*math.pi*var)**.5\n",
    "    num = math.exp(-(float(x)-float(mean))**2/(2*var))\n",
    "    return num/denom"
   ]
  },
  {
   "cell_type": "code",
   "execution_count": 16,
   "metadata": {},
   "outputs": [],
   "source": [
    "def predication(testing_data):\n",
    "    predication_value_list=[]\n",
    "    for testing_index, testing_row in testing_data.iterrows():\n",
    "        pre_1=1\n",
    "        pre_0=1\n",
    "        for attr in list_columns:\n",
    "            attr_value=testing_row[attr]\n",
    "            if attr in categorial_data:\n",
    "                pre_1=pre_1*categorial_data_probability[attr][attr_value][1]\n",
    "                pre_0=pre_0*categorial_data_probability[attr][attr_value][0]\n",
    "            elif attr in numerical_data:\n",
    "                pre_1=pre_1*normpdf(attr_value,numerical_data_mean[attr][1],numerical_data_std[attr][1])\n",
    "                pre_0=pre_0*normpdf(attr_value,numerical_data_mean[attr][0],numerical_data_std[attr][0])\n",
    "            elif attr=='Output':\n",
    "                pre_1=probability_one*pre_1\n",
    "                pre_0=probability_zero*pre_0\n",
    "            else :\n",
    "                print \"Something went Worng \",attr\n",
    "        if pre_1>pre_0:\n",
    "            predication_value_list.append(1)\n",
    "        else:\n",
    "            predication_value_list.append(0)\n",
    "    return predication_value_list\n"
   ]
  },
  {
   "cell_type": "code",
   "execution_count": 17,
   "metadata": {},
   "outputs": [],
   "source": [
    "def calc_preformance(target_value,pridected_value):\n",
    "    t_p=0\n",
    "    f_p=0\n",
    "    t_n=0\n",
    "    f_n=0\n",
    "    for i in range(len(target_value)):\n",
    "        if target_value[i]==0 and target_value[i]==pridected_value[i]:\n",
    "            t_n=t_n+1\n",
    "        elif target_value[i]==1 and target_value[i]==pridected_value[i]:\n",
    "            t_p=t_p+1\n",
    "        elif pridected_value[i]==1 and target_value[i]==0:\n",
    "            f_p=f_p+1\n",
    "        elif pridected_value[i]==0 and target_value[i]==1:\n",
    "            f_n=f_n+1\n",
    "    if t_p!=0:\n",
    "        accuracy=(t_n+t_p)/float(t_n+t_p+f_p+f_n)\n",
    "\n",
    "        precision=(t_p)/float(t_p+f_p)\n",
    "        recall=(t_p)/float(t_p+f_n)\n",
    "        a=1/precision\n",
    "        b=1/recall\n",
    "        f1_score=2/(a+b)\n",
    "    else :\n",
    "        accuracy=0\n",
    "        precision=0\n",
    "        recall=0\n",
    "        f1_score=0\n",
    "#     print \"ture positive\",t_p\n",
    "#     print \"false positive\",f_p\n",
    "#     print \"false negative\",f_n\n",
    "#     print \"ture negative\",t_n\n",
    "    \n",
    "    print \"Accuracy \",accuracy\n",
    "    print \"Precision \",precision\n",
    "    print \"Recall \",recall\n",
    "    print \"F1 Score\",f1_score\n",
    "    return accuracy\n"
   ]
  },
  {
   "cell_type": "code",
   "execution_count": 18,
   "metadata": {},
   "outputs": [
    {
     "name": "stdout",
     "output_type": "stream",
     "text": [
      "Accuracy  0.927777777778\n",
      "Precision  0.59\n",
      "Recall  0.710843373494\n",
      "F1 Score 0.644808743169\n"
     ]
    }
   ],
   "source": [
    "actual_value=validation_data['Output'].tolist()\n",
    "predication_value=predication(validation_data)\n",
    "ac=calc_preformance(actual_value,predication_value)"
   ]
  },
  {
   "cell_type": "code",
   "execution_count": null,
   "metadata": {},
   "outputs": [],
   "source": []
  },
  {
   "cell_type": "code",
   "execution_count": null,
   "metadata": {},
   "outputs": [],
   "source": []
  }
 ],
 "metadata": {
  "kernelspec": {
   "display_name": "Python 2",
   "language": "python",
   "name": "python2"
  },
  "language_info": {
   "codemirror_mode": {
    "name": "ipython",
    "version": 2
   },
   "file_extension": ".py",
   "mimetype": "text/x-python",
   "name": "python",
   "nbconvert_exporter": "python",
   "pygments_lexer": "ipython2",
   "version": "2.7.15rc1"
  }
 },
 "nbformat": 4,
 "nbformat_minor": 2
}

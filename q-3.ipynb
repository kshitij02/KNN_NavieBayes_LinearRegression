{
 "cells": [
  {
   "cell_type": "markdown",
   "metadata": {},
   "source": [
    "# Part 1"
   ]
  },
  {
   "cell_type": "code",
   "execution_count": 21,
   "metadata": {},
   "outputs": [],
   "source": [
    "import numpy as num\n",
    "import pandas as pd\n",
    "import math\n",
    "import pprint\n",
    "from numpy.linalg import inv\n",
    "from sklearn.metrics import r2_score\n",
    "import sys\n"
   ]
  },
  {
   "cell_type": "code",
   "execution_count": 2,
   "metadata": {},
   "outputs": [],
   "source": [
    "def normalize(data,list_attribute):\n",
    "#     for attr in list_attribute:\n",
    "#         print attr\n",
    "#         attr_std=data[attr].std()\n",
    "#         attr_mean=data[attr].mean()\n",
    "#         li=[]\n",
    "#         for index, row in data.iterrows():\n",
    "#             attr_value=float((row[attr]-attr_mean))/attr_std\n",
    "#             li.append(attr_value)\n",
    "#         data.drop(columns=attr)\n",
    "#         data[attr]=li\n",
    "    norm = (data - data.mean())/data.std()\n",
    "    norm['Chance of Admit '] = data['Chance of Admit ']\n",
    "    return norm"
   ]
  },
  {
   "cell_type": "code",
   "execution_count": 3,
   "metadata": {},
   "outputs": [],
   "source": [
    "data= pd.read_csv('AdmissionDataset/data.csv')\n",
    "data=data.drop(columns='Serial No.')\n",
    "list_attribute= data.columns[:-1]\n",
    "# print list_attribute\n",
    "data=normalize(data,list_attribute)\n",
    "li=[1]*len(data.index)\n",
    "data.insert(0, \"Extra\", li) \n",
    "train_data=data.sample(frac=0.8)\n",
    "validation_data=data.drop(train_data.index)\n",
    "\n",
    "# validation_data=pd.read_csv(sys.args[1])\n",
    "# validation_data.insert(0, \"Extra\", li) \n",
    "# validation_data=validation_data.drop(columns='Serial No.')"
   ]
  },
  {
   "cell_type": "code",
   "execution_count": 4,
   "metadata": {},
   "outputs": [],
   "source": [
    "def calc_beta_value(train_data):\n",
    "#     print train_data\n",
    "    X=train_data.iloc[:,:-1].values\n",
    "    X_transpose=X.T\n",
    "#     print X.shape\n",
    "    a=inv(num.dot(X_transpose,X))\n",
    "    b=num.dot(a,X_transpose)\n",
    "    beta=num.dot(b,train_data['Chance of Admit '].values)\n",
    "#     print beta\n",
    "    return beta\n",
    "\n",
    "beta=calc_beta_value(train_data)\n",
    "# print beta"
   ]
  },
  {
   "cell_type": "code",
   "execution_count": 5,
   "metadata": {},
   "outputs": [],
   "source": [
    "def calc_predication(beta,test_data):\n",
    "#     print test_data.iloc[:,:-1].values.shape\n",
    "#     print beta.shape\n",
    "    predication=num.dot(test_data.iloc[:,:-1].values,beta)\n",
    "    return predication"
   ]
  },
  {
   "cell_type": "code",
   "execution_count": 6,
   "metadata": {},
   "outputs": [
    {
     "name": "stdout",
     "output_type": "stream",
     "text": [
      "R2 Score\n",
      "0.8073189042018034\n"
     ]
    }
   ],
   "source": [
    "predication_p1=calc_predication(beta,validation_data)\n",
    "# print predication\n",
    "print \"R2 Score\"\n",
    "print r2_score(validation_data['Chance of Admit '].tolist(),predication_p1)"
   ]
  },
  {
   "cell_type": "markdown",
   "metadata": {},
   "source": [
    "# Part 2"
   ]
  },
  {
   "cell_type": "code",
   "execution_count": 7,
   "metadata": {},
   "outputs": [],
   "source": [
    "def gradiant_method_mean_sq_error(X,Y,beta,learning_rate,m):\n",
    "#     print X.shape\n",
    "    a=num.dot(X,beta)\n",
    "#     print Y.shape\n",
    "    z=num.subtract(a,Y)\n",
    "#     print z.shape\n",
    "    a=(learning_rate/m)*(num.dot(z.T,X))\n",
    "#     print a.shape\n",
    "    beta=num.subtract(beta,a.T)\n",
    "#     print beta.shape\n",
    "    return beta"
   ]
  },
  {
   "cell_type": "code",
   "execution_count": 8,
   "metadata": {},
   "outputs": [
    {
     "name": "stdout",
     "output_type": "stream",
     "text": [
      "Gradient MSE R2 Score\n",
      "0.8055214575474188\n"
     ]
    }
   ],
   "source": [
    "beta=num.array([0]*8)\n",
    "X=train_data.iloc[:,:-1].values\n",
    "Y=num.array(train_data['Chance of Admit '].tolist())\n",
    "beta=beta.reshape(8,1)\n",
    "Y=Y.reshape(360,1)\n",
    "m=len(train_data.index)\n",
    "for i in range(500):\n",
    "    beta=gradiant_method_mean_sq_error(X,Y,beta,0.0125,m)\n",
    "# print beta\n",
    "predication=calc_predication(beta,validation_data)\n",
    "# print predication,beta\n",
    "print \"Gradient MSE R2 Score\"\n",
    "print r2_score(validation_data['Chance of Admit '].tolist(),predication)"
   ]
  },
  {
   "cell_type": "code",
   "execution_count": 9,
   "metadata": {},
   "outputs": [
    {
     "name": "stdout",
     "output_type": "stream",
     "text": [
      "Error\n",
      "0.00410947325923\n"
     ]
    }
   ],
   "source": [
    "def mean_squared_error(actual,predication):\n",
    "    error=0\n",
    "    for i in range(len(actual)):\n",
    "        error = error +  ((actual[i]-predication[i])**2)\n",
    "    return float(error/len(actual))\n",
    "print \"Error\"\n",
    "print mean_squared_error(validation_data['Chance of Admit '].tolist(),predication)"
   ]
  },
  {
   "cell_type": "code",
   "execution_count": 10,
   "metadata": {},
   "outputs": [],
   "source": [
    "def gradiant_method_mean_abs_error(X,Y,beta,learning_rate,m):\n",
    "    a=num.dot(X,beta)\n",
    "#     print Y.shape\n",
    "    z=num.subtract(a,Y)\n",
    "    z=num.divide(z,num.abs(z))\n",
    "#     print z.shape\n",
    "    a=(learning_rate/(2*m))*(num.dot(z.T,X))\n",
    "#     print a.shape\n",
    "    beta=num.subtract(beta,a.T)\n",
    "#     print beta.shape\n",
    "    return beta"
   ]
  },
  {
   "cell_type": "code",
   "execution_count": 11,
   "metadata": {},
   "outputs": [
    {
     "name": "stdout",
     "output_type": "stream",
     "text": [
      "Gradient MAE R2 Score\n",
      "0.7987551118568581\n"
     ]
    }
   ],
   "source": [
    "beta=num.array([0]*8)\n",
    "X=train_data.iloc[:,:-1].values\n",
    "Y=num.array(train_data['Chance of Admit '].tolist())\n",
    "beta=beta.reshape(8,1)\n",
    "Y=Y.reshape(360,1)\n",
    "m=len(train_data.index)\n",
    "for i in range(1000):\n",
    "     beta=gradiant_method_mean_abs_error(X,Y,beta,0.0125,m)\n",
    "# print beta\n",
    "predication=calc_predication(beta,validation_data)\n",
    "# print predication\n",
    "print \"Gradient MAE R2 Score\"\n",
    "print r2_score(validation_data['Chance of Admit '].tolist(),predication)"
   ]
  },
  {
   "cell_type": "code",
   "execution_count": 12,
   "metadata": {},
   "outputs": [
    {
     "name": "stdout",
     "output_type": "stream",
     "text": [
      "Error\n",
      "0.0429942647079\n"
     ]
    }
   ],
   "source": [
    "def mean_absoulte_error(actual,predication):\n",
    "    error=0\n",
    "    for i in range(len(actual)):\n",
    "        error= error + abs(actual[i]-predication[i])\n",
    "    return float(error/len(actual))\n",
    "print \"Error\"\n",
    "print mean_absoulte_error(validation_data['Chance of Admit '].tolist(),predication)"
   ]
  },
  {
   "cell_type": "code",
   "execution_count": 13,
   "metadata": {},
   "outputs": [],
   "source": [
    "def gradiant_method_mean_precentage_error(X,Y,beta,learning_rate,m):\n",
    "    a=num.dot(X,beta)\n",
    "#     print Y.shape\n",
    "    z=num.subtract(a,Y)\n",
    "    z=num.divide(z,Y*num.abs(z))\n",
    "#     print z.shape\n",
    "    a=(learning_rate/(2*m))*(num.dot(z.T,X))\n",
    "#     print a.shape\n",
    "    beta=num.subtract(beta,a.T)\n",
    "#     print beta.shape\n",
    "    return beta"
   ]
  },
  {
   "cell_type": "code",
   "execution_count": 14,
   "metadata": {},
   "outputs": [
    {
     "name": "stdout",
     "output_type": "stream",
     "text": [
      "Gradient MAPE R2 Score\n",
      "0.8073017631080497\n"
     ]
    }
   ],
   "source": [
    "beta=num.array([0]*8)\n",
    "X=train_data.iloc[:,:-1].values\n",
    "Y=num.array(train_data['Chance of Admit '].tolist())\n",
    "beta=beta.reshape(8,1)\n",
    "Y=Y.reshape(360,1)\n",
    "m=len(train_data.index)\n",
    "for i in range(1000):\n",
    "    beta=gradiant_method_mean_precentage_error(X,Y,beta,0.0125,m)\n",
    "# print beta\n",
    "predication=calc_predication(beta,validation_data)\n",
    "print \"Gradient MAPE R2 Score\"\n",
    "print r2_score(validation_data['Chance of Admit '].tolist(),predication)"
   ]
  },
  {
   "cell_type": "code",
   "execution_count": 15,
   "metadata": {},
   "outputs": [
    {
     "name": "stdout",
     "output_type": "stream",
     "text": [
      "Error\n",
      "7.33784524644\n"
     ]
    }
   ],
   "source": [
    "def mean_absoulte_precentage_error(actual,predication):\n",
    "    error=0\n",
    "    for i in range(len(actual)):\n",
    "        error=error +  abs((actual[i]-predication[i])/actual[i])\n",
    "    return float(error*100/len(actual))\n",
    "print \"Error\"\n",
    "print mean_absoulte_precentage_error(validation_data['Chance of Admit '].tolist(),predication)"
   ]
  },
  {
   "cell_type": "code",
   "execution_count": 16,
   "metadata": {},
   "outputs": [
    {
     "name": "stdout",
     "output_type": "stream",
     "text": [
      "Mean squared error: 0.00\n",
      "Variance score: 0.807319\n"
     ]
    }
   ],
   "source": [
    "import matplotlib.pyplot as plt\n",
    "import numpy as np\n",
    "from sklearn import datasets, linear_model\n",
    "from sklearn.metrics import mean_squared_error, r2_score\n",
    "\n",
    "regr = linear_model.LinearRegression()\n",
    "X=train_data.iloc[:,:-1].values\n",
    "Y=train_data['Chance of Admit '].tolist()\n",
    "regr.fit(X, Y)\n",
    "pred = regr.predict(validation_data.iloc[:,:-1].values)\n",
    "# print(regr.coef_)\n",
    "print(\"Mean squared error: %.2f\"\n",
    "      % mean_squared_error(validation_data['Chance of Admit '].tolist(), pred))\n",
    "print('Variance score: %f' % r2_score(validation_data['Chance of Admit '].tolist(), pred))"
   ]
  },
  {
   "cell_type": "code",
   "execution_count": 17,
   "metadata": {},
   "outputs": [
    {
     "name": "stdout",
     "output_type": "stream",
     "text": [
      "MAE , MSE ,MAPE Error for Matrix Method Beta \n",
      "0.0040714919021745625\n"
     ]
    }
   ],
   "source": [
    "print \"MAE , MSE ,MAPE Error for Matrix Method Beta \"\n",
    "print mean_squared_error(validation_data['Chance of Admit '].tolist(),predication_p1)"
   ]
  },
  {
   "cell_type": "code",
   "execution_count": 18,
   "metadata": {},
   "outputs": [
    {
     "name": "stdout",
     "output_type": "stream",
     "text": [
      "0.0432736652242\n"
     ]
    }
   ],
   "source": [
    "print mean_absoulte_error(validation_data['Chance of Admit '].tolist(),predication_p1)"
   ]
  },
  {
   "cell_type": "code",
   "execution_count": 19,
   "metadata": {},
   "outputs": [
    {
     "name": "stdout",
     "output_type": "stream",
     "text": [
      "7.30326970871\n"
     ]
    }
   ],
   "source": [
    "print mean_absoulte_precentage_error(validation_data['Chance of Admit '].tolist(),predication_p1)"
   ]
  },
  {
   "cell_type": "markdown",
   "metadata": {},
   "source": [
    "# Part 3"
   ]
  },
  {
   "cell_type": "code",
   "execution_count": 20,
   "metadata": {},
   "outputs": [
    {
     "name": "stdout",
     "output_type": "stream",
     "text": [
      "[[0.72730726]\n",
      " [0.02649369]\n",
      " [0.01663454]\n",
      " [0.00933854]\n",
      " [0.00587011]\n",
      " [0.00985625]\n",
      " [0.06496126]\n",
      " [0.01488986]]\n"
     ]
    }
   ],
   "source": [
    "print beta"
   ]
  },
  {
   "cell_type": "code",
   "execution_count": null,
   "metadata": {},
   "outputs": [],
   "source": []
  },
  {
   "cell_type": "code",
   "execution_count": null,
   "metadata": {},
   "outputs": [],
   "source": []
  }
 ],
 "metadata": {
  "kernelspec": {
   "display_name": "Python 2",
   "language": "python",
   "name": "python2"
  },
  "language_info": {
   "codemirror_mode": {
    "name": "ipython",
    "version": 2
   },
   "file_extension": ".py",
   "mimetype": "text/x-python",
   "name": "python",
   "nbconvert_exporter": "python",
   "pygments_lexer": "ipython2",
   "version": "2.7.15rc1"
  }
 },
 "nbformat": 4,
 "nbformat_minor": 2
}
